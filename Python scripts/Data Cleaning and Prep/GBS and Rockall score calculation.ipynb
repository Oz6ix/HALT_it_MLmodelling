{
 "cells": [
  {
   "cell_type": "code",
   "execution_count": 2,
   "id": "36f68be6",
   "metadata": {},
   "outputs": [
    {
     "name": "stderr",
     "output_type": "stream",
     "text": [
      "/tmp/ipykernel_140/1002753104.py:5: DtypeWarning: Columns (101,109) have mixed types. Specify dtype option on import or set low_memory=False.\n",
      "  data = pd.read_csv(data_path)\n"
     ]
    },
    {
     "name": "stdout",
     "output_type": "stream",
     "text": [
      "Number of rows with at least one missing value in key columns: 45\n",
      "Number of rows before cleaning: 11974\n",
      "Number of rows after cleaning: 11929\n"
     ]
    },
    {
     "name": "stderr",
     "output_type": "stream",
     "text": [
      "/tmp/ipykernel_140/1002753104.py:74: SettingWithCopyWarning: \n",
      "A value is trying to be set on a copy of a slice from a DataFrame.\n",
      "Try using .loc[row_indexer,col_indexer] = value instead\n",
      "\n",
      "See the caveats in the documentation: https://pandas.pydata.org/pandas-docs/stable/user_guide/indexing.html#returning-a-view-versus-a-copy\n",
      "  data_cleaned['GBS'] = data_cleaned.apply(calculate_gbs, axis=1)\n",
      "/tmp/ipykernel_140/1002753104.py:75: SettingWithCopyWarning: \n",
      "A value is trying to be set on a copy of a slice from a DataFrame.\n",
      "Try using .loc[row_indexer,col_indexer] = value instead\n",
      "\n",
      "See the caveats in the documentation: https://pandas.pydata.org/pandas-docs/stable/user_guide/indexing.html#returning-a-view-versus-a-copy\n",
      "  data_cleaned['Rockall'] = data_cleaned.apply(calculate_rockall, axis=1)\n"
     ]
    },
    {
     "name": "stdout",
     "output_type": "stream",
     "text": [
      "Number of rows in the saved data: 11932\n",
      "  patientid   GBS  Rockall\n",
      "0       7.0   1.0      3.0\n",
      "1       8.0  13.0      4.0\n",
      "2      11.0  10.0      5.0\n",
      "3      16.0   1.0      1.0\n",
      "4      19.0   7.0      2.0\n"
     ]
    },
    {
     "name": "stderr",
     "output_type": "stream",
     "text": [
      "/tmp/ipykernel_140/1002753104.py:82: DtypeWarning: Columns (0,2,11,13,46,47,48,101,109) have mixed types. Specify dtype option on import or set low_memory=False.\n",
      "  saved_data = pd.read_csv(output_path)\n"
     ]
    }
   ],
   "source": [
    "import pandas as pd\n",
    "\n",
    "# Load the original dataset\n",
    "data_path = '../Raw_Data/Raw_MC.csv'\n",
    "data = pd.read_csv(data_path)\n",
    "\n",
    "# Key columns needed for GBS and Rockall score calculations\n",
    "key_columns = ['sbp', 'heartrate', 'melaena', 'comorbliver', 'comorbcv', 'transfused', 'age']\n",
    "\n",
    "# Identify rows with at least one missing value in key columns\n",
    "missing_data_rows = data[key_columns].isnull().any(axis=1)\n",
    "num_missing_data_rows = missing_data_rows.sum()\n",
    "\n",
    "print(f\"Number of rows with at least one missing value in key columns: {num_missing_data_rows}\")\n",
    "\n",
    "# Remove rows with missing data in key columns\n",
    "data_cleaned = data[~missing_data_rows]\n",
    "\n",
    "# Display the number of rows before and after removing rows with missing data\n",
    "print(f\"Number of rows before cleaning: {data.shape[0]}\")\n",
    "print(f\"Number of rows after cleaning: {data_cleaned.shape[0]}\")\n",
    "\n",
    "# Apply the functions to calculate GBS and Rockall scores\n",
    "def calculate_gbs(row):\n",
    "    gbs = 0\n",
    "    if row['sbp'] >= 110:\n",
    "        gbs += 0\n",
    "    elif 100 <= row['sbp'] < 110:\n",
    "        gbs += 1\n",
    "    elif 90 <= row['sbp'] < 100:\n",
    "        gbs += 2\n",
    "    else:\n",
    "        gbs += 3\n",
    "\n",
    "    if row['heartrate'] >= 100:\n",
    "        gbs += 1\n",
    "    \n",
    "    if row['melaena'] == 'Yes':\n",
    "        gbs += 1\n",
    "\n",
    "    if row['comorbliver'] == 'Yes':\n",
    "        gbs += 2\n",
    "\n",
    "    if row['comorbcv'] == 'Yes':\n",
    "        gbs += 2\n",
    "\n",
    "    if row['transfused'] == 'Yes':\n",
    "        gbs += 6\n",
    "\n",
    "    return gbs\n",
    "\n",
    "def calculate_rockall(row):\n",
    "    rockall = 0\n",
    "    if row['age'] < 60:\n",
    "        rockall += 0\n",
    "    elif 60 <= row['age'] < 80:\n",
    "        rockall += 1\n",
    "    else:\n",
    "        rockall += 2\n",
    "\n",
    "    if row['sbp'] > 100 and row['heartrate'] < 100:\n",
    "        rockall += 0\n",
    "    elif row['heartrate'] >= 100:\n",
    "        rockall += 1\n",
    "    else:\n",
    "        rockall += 2\n",
    "\n",
    "    if row['comorbcv'] == 'Yes' or row['comorbliver'] == 'Yes':\n",
    "        rockall += 2\n",
    "\n",
    "    return rockall\n",
    "\n",
    "# Calculate GBS and Rockall scores for the cleaned dataset\n",
    "data_cleaned['GBS'] = data_cleaned.apply(calculate_gbs, axis=1)\n",
    "data_cleaned['Rockall'] = data_cleaned.apply(calculate_rockall, axis=1)\n",
    "\n",
    "# Save the cleaned dataset with scores to a new CSV file\n",
    "output_path = '../Python scripts/HALT_score_included_cleaned.csv'\n",
    "data_cleaned.to_csv(output_path, index=False)\n",
    "\n",
    "# Verify the number of rows in the saved data\n",
    "saved_data = pd.read_csv(output_path)\n",
    "print(f\"Number of rows in the saved data: {saved_data.shape[0]}\")\n",
    "\n",
    "# Verify that GBS and Rockall scores are present\n",
    "print(saved_data[['patientid', 'GBS', 'Rockall']].head())"
   ]
  },
  {
   "cell_type": "code",
   "execution_count": null,
   "id": "a82bdc27",
   "metadata": {},
   "outputs": [],
   "source": []
  }
 ],
 "metadata": {
  "kernelspec": {
   "display_name": "Python 3 (ipykernel)",
   "language": "python",
   "name": "python3"
  },
  "language_info": {
   "codemirror_mode": {
    "name": "ipython",
    "version": 3
   },
   "file_extension": ".py",
   "mimetype": "text/x-python",
   "name": "python",
   "nbconvert_exporter": "python",
   "pygments_lexer": "ipython3",
   "version": "3.9.13"
  }
 },
 "nbformat": 4,
 "nbformat_minor": 5
}
